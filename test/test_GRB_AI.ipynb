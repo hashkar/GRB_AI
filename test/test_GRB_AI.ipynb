{
 "cells": [
  {
   "cell_type": "code",
   "execution_count": 1,
   "id": "df8b5431-ecb5-44a4-bc3a-de545d5b55cf",
   "metadata": {},
   "outputs": [],
   "source": [
    "#IMPORTS\n",
    "import numpy as np\n",
    "import pandas as pd\n",
    "from sklearn.model_selection import train_test_split\n",
    "from sklearn.preprocessing import StandardScaler\n",
    "from sklearn.ensemble import RandomForestClassifier\n",
    "from sklearn.metrics import classification_report, accuracy_score\n",
    "import warnings\n",
    "\n"
   ]
  },
  {
   "cell_type": "code",
   "execution_count": 2,
   "id": "93aca68d-d13d-41e1-a58c-a4f9aa7772ef",
   "metadata": {},
   "outputs": [],
   "source": [
    "warnings.filterwarnings('ignore')"
   ]
  },
  {
   "cell_type": "code",
   "execution_count": 3,
   "id": "288d852d-7674-4d67-8576-ef7c5087b7b7",
   "metadata": {},
   "outputs": [
    {
     "name": "stdout",
     "output_type": "stream",
     "text": [
      "   ## GRBname    Trig_ID  Trig_time_met               Trig_time_UTC  \\\n",
      "0  GRB231215A  1202522.0   7.243265e+08  2023-12-15T09:47:25.273080   \n",
      "1  GRB231214A  1202386.0   7.242783e+08  2023-12-14T20:24:28.316380   \n",
      "2  GRB231210B  1201696.0   7.239366e+08  2023-12-10T21:29:04.499760   \n",
      "3  GRB231205B  1200812.0   7.234875e+08  2023-12-05T16:43:59.506460   \n",
      "4  GRB231129A  1199764.0   7.229272e+08  2023-11-29T05:05:59.096760   \n",
      "\n",
      "   RA_ground  DEC_ground  Image_position_err  Image_SNR      T90    T90_err  \\\n",
      "0    9.72982    57.63370            1.296588   20.98807   22.096   3.472525   \n",
      "1  305.66880   -72.43144            0.917670   34.38932   27.636   4.568637   \n",
      "2   95.80293   -48.33463            1.761250   13.55020    7.472   0.647951   \n",
      "3   54.15053    27.14630            0.978140   31.39288   64.000  16.000000   \n",
      "4  317.54100    41.53033            0.960403   32.22439  106.324   2.018324   \n",
      "\n",
      "      T50    T50_err  Evt_start_sincetrig  Evt_stop_sincetrig   pcode  \\\n",
      "0   7.040   1.432603               -240.0               962.0  0.0654   \n",
      "1  13.820   0.536731                -61.0               984.0  0.3906   \n",
      "2   4.048   0.892135                -60.0               963.0  0.1758   \n",
      "3  16.000  16.000000               -239.0               963.0  0.5078   \n",
      "4  66.520   1.336700               -240.0               963.0  0.4648   \n",
      "\n",
      "  Trigger_method XRT_detection comment  \n",
      "0   rate trigger           Yes     NaN  \n",
      "1   rate trigger           Yes     NaN  \n",
      "2   rate trigger           Yes     NaN  \n",
      "3  image trigger           Yes     NaN  \n",
      "4   rate trigger           Yes     NaN  \n",
      "0        22.096\n",
      "1        27.636\n",
      "2         7.472\n",
      "3        64.000\n",
      "4       106.324\n",
      "         ...   \n",
      "1584      5.584\n",
      "1585     10.000\n",
      "1586      9.856\n",
      "1587        NaN\n",
      "1588      5.668\n",
      "Name: T90, Length: 1589, dtype: float64\n"
     ]
    }
   ],
   "source": [
    "# Load the dataset\n",
    "data = pd.read_csv('summary_general-2.txt', sep=r'\\s*\\|\\s*', engine='python')\n",
    "# Display the first few rows of the dataset\n",
    "print(data.head())\n",
    "print(data['T90'])"
   ]
  },
  {
   "cell_type": "code",
   "execution_count": 4,
   "id": "31cd2d7f-bb23-4802-9126-f26766354d38",
   "metadata": {},
   "outputs": [],
   "source": [
    "# Assuming 'T90' is the column for duration in the dataset\n",
    "threshold = 2  # typically, GRBs with T90 < 2 seconds are considered short\n",
    "\n",
    "# Create a new column 'GRB_class' where 0 = short, 1 = long\n",
    "data['GRB_class'] = data['T90'].apply(lambda x: 0 if x < threshold else 1)\n",
    "\n",
    "# Select features (you may need to adjust these depending on the dataset)\n",
    "features = ['T50', 'T90']  # example feature columns\n",
    "X = data[features]\n",
    "y = data['GRB_class']"
   ]
  },
  {
   "cell_type": "code",
   "execution_count": 5,
   "id": "41e684e9-2e0c-4065-a0ad-b2728e99ef8d",
   "metadata": {},
   "outputs": [],
   "source": [
    "# Split the data into training and test sets\n",
    "X_train, X_test, y_train, y_test = train_test_split(X, y, test_size=0.2, random_state=42)\n",
    "\n",
    "# Standardize the feature columns\n",
    "scaler = StandardScaler()\n",
    "X_train = scaler.fit_transform(X_train)\n",
    "X_test = scaler.transform(X_test)"
   ]
  },
  {
   "cell_type": "code",
   "execution_count": 6,
   "id": "f6769e17-6881-4b95-8119-1fa1a60c8620",
   "metadata": {},
   "outputs": [
    {
     "name": "stdout",
     "output_type": "stream",
     "text": [
      "Accuracy: 1.00\n"
     ]
    }
   ],
   "source": [
    "# Initialize the Random Forest classifier\n",
    "clf = RandomForestClassifier(n_estimators=100, random_state=42)\n",
    "\n",
    "# Train the classifier\n",
    "clf.fit(X_train, y_train)\n",
    "\n",
    "# Predict the test set results\n",
    "y_pred = clf.predict(X_test)\n",
    "\n",
    "# Evaluate the model\n",
    "accuracy = accuracy_score(y_test, y_pred)\n",
    "print(f'Accuracy: {accuracy:.2f}')"
   ]
  },
  {
   "cell_type": "code",
   "execution_count": 7,
   "id": "f5d29f45-c0fa-4d12-97ac-be8119ad04ff",
   "metadata": {},
   "outputs": [
    {
     "name": "stdout",
     "output_type": "stream",
     "text": [
      "              precision    recall  f1-score   support\n",
      "\n",
      "   Short GRB       1.00      1.00      1.00        33\n",
      "    Long GRB       1.00      1.00      1.00       285\n",
      "\n",
      "    accuracy                           1.00       318\n",
      "   macro avg       1.00      1.00      1.00       318\n",
      "weighted avg       1.00      1.00      1.00       318\n",
      "\n"
     ]
    }
   ],
   "source": [
    "# Display the classification report\n",
    "print(classification_report(y_test, y_pred, target_names=['Short GRB', 'Long GRB']))"
   ]
  },
  {
   "cell_type": "code",
   "execution_count": 8,
   "metadata": {},
   "outputs": [
    {
     "name": "stdout",
     "output_type": "stream",
     "text": [
      "Mean T50: 32.90323930791257\n",
      "Median T50: nan\n",
      "Standard Deviation of T50: 61.37670318053531\n",
      "Skewness of T50: 5.7574674039619715\n",
      "Kurtosis of T50: 47.01474340900766\n",
      "   ## GRBname    Trig_ID  Trig_time_met               Trig_time_UTC  \\\n",
      "0  GRB231215A  1202522.0   7.243265e+08  2023-12-15T09:47:25.273080   \n",
      "1  GRB231214A  1202386.0   7.242783e+08  2023-12-14T20:24:28.316380   \n",
      "2  GRB231210B  1201696.0   7.239366e+08  2023-12-10T21:29:04.499760   \n",
      "3  GRB231205B  1200812.0   7.234875e+08  2023-12-05T16:43:59.506460   \n",
      "4  GRB231129A  1199764.0   7.229272e+08  2023-11-29T05:05:59.096760   \n",
      "\n",
      "   RA_ground  DEC_ground  Image_position_err  Image_SNR      T90    T90_err  \\\n",
      "0    9.72982    57.63370            1.296588   20.98807   22.096   3.472525   \n",
      "1  305.66880   -72.43144            0.917670   34.38932   27.636   4.568637   \n",
      "2   95.80293   -48.33463            1.761250   13.55020    7.472   0.647951   \n",
      "3   54.15053    27.14630            0.978140   31.39288   64.000  16.000000   \n",
      "4  317.54100    41.53033            0.960403   32.22439  106.324   2.018324   \n",
      "\n",
      "   ...  Evt_start_sincetrig  Evt_stop_sincetrig   pcode  Trigger_method  \\\n",
      "0  ...               -240.0               962.0  0.0654    rate trigger   \n",
      "1  ...                -61.0               984.0  0.3906    rate trigger   \n",
      "2  ...                -60.0               963.0  0.1758    rate trigger   \n",
      "3  ...               -239.0               963.0  0.5078   image trigger   \n",
      "4  ...               -240.0               963.0  0.4648    rate trigger   \n",
      "\n",
      "   XRT_detection comment GRB_class Normalized_T50   Log_T50  T50_to_T90  \n",
      "0            Yes     NaN         1       0.318610  1.951608    0.318610  \n",
      "1            Yes     NaN         1       0.500072  2.626117    0.500072  \n",
      "2            Yes     NaN         1       0.541756  1.398223    0.541756  \n",
      "3            Yes     NaN         1       0.250000  2.772589    0.250000  \n",
      "4            Yes     NaN         1       0.625635  4.197503    0.625635  \n",
      "\n",
      "[5 rows x 22 columns]\n"
     ]
    }
   ],
   "source": [
    "import numpy as np\n",
    "#Basic statistical features\n",
    "mean_t50 = np.mean(data['T50'])\n",
    "median_t50 = np.median(data['T50'])\n",
    "std_t50 = np.std(data['T50'])\n",
    "skew_t50 = data['T50'].skew()\n",
    "kurt_t50 = data['T50'].kurtosis()\n",
    "\n",
    "# Normalized T50\n",
    "data['Normalized_T50'] = data['T50'] / data['T90']\n",
    "\n",
    "# Logarithm of T50\n",
    "data['Log_T50'] = np.log(data['T50'])\n",
    "\n",
    "# T50 to T90 ratio\n",
    "data['T50_to_T90'] = data['T50'] / data['T90']\n",
    "\n",
    "# Display results\n",
    "print(\"Mean T50:\", mean_t50)\n",
    "print(\"Median T50:\", median_t50)\n",
    "print(\"Standard Deviation of T50:\", std_t50)\n",
    "print(\"Skewness of T50:\", skew_t50)\n",
    "print(\"Kurtosis of T50:\", kurt_t50)\n",
    "print(data.head())"
   ]
  },
  {
   "cell_type": "code",
   "execution_count": 9,
   "id": "0dcfdc3f",
   "metadata": {},
   "outputs": [
    {
     "ename": "ExecutableNotFound",
     "evalue": "failed to execute PosixPath('dot'), make sure the Graphviz executables are on your systems' PATH",
     "output_type": "error",
     "traceback": [
      "\u001b[0;31m---------------------------------------------------------------------------\u001b[0m",
      "\u001b[0;31mFileNotFoundError\u001b[0m                         Traceback (most recent call last)",
      "File \u001b[0;32m~/anaconda3/envs/GRBAI/lib/python3.12/site-packages/graphviz/backend/execute.py:78\u001b[0m, in \u001b[0;36mrun_check\u001b[0;34m(cmd, input_lines, encoding, quiet, **kwargs)\u001b[0m\n\u001b[1;32m     77\u001b[0m     \u001b[39melse\u001b[39;00m:\n\u001b[0;32m---> 78\u001b[0m         proc \u001b[39m=\u001b[39m subprocess\u001b[39m.\u001b[39;49mrun(cmd, \u001b[39m*\u001b[39;49m\u001b[39m*\u001b[39;49mkwargs)\n\u001b[1;32m     79\u001b[0m \u001b[39mexcept\u001b[39;00m \u001b[39mOSError\u001b[39;00m \u001b[39mas\u001b[39;00m e:\n",
      "File \u001b[0;32m~/anaconda3/envs/GRBAI/lib/python3.12/subprocess.py:548\u001b[0m, in \u001b[0;36mrun\u001b[0;34m(input, capture_output, timeout, check, *popenargs, **kwargs)\u001b[0m\n\u001b[1;32m    546\u001b[0m     kwargs[\u001b[39m'\u001b[39m\u001b[39mstderr\u001b[39m\u001b[39m'\u001b[39m] \u001b[39m=\u001b[39m PIPE\n\u001b[0;32m--> 548\u001b[0m \u001b[39mwith\u001b[39;00m Popen(\u001b[39m*\u001b[39;49mpopenargs, \u001b[39m*\u001b[39;49m\u001b[39m*\u001b[39;49mkwargs) \u001b[39mas\u001b[39;00m process:\n\u001b[1;32m    549\u001b[0m     \u001b[39mtry\u001b[39;00m:\n",
      "File \u001b[0;32m~/anaconda3/envs/GRBAI/lib/python3.12/subprocess.py:1026\u001b[0m, in \u001b[0;36mPopen.__init__\u001b[0;34m(self, args, bufsize, executable, stdin, stdout, stderr, preexec_fn, close_fds, shell, cwd, env, universal_newlines, startupinfo, creationflags, restore_signals, start_new_session, pass_fds, user, group, extra_groups, encoding, errors, text, umask, pipesize, process_group)\u001b[0m\n\u001b[1;32m   1023\u001b[0m             \u001b[39mself\u001b[39m\u001b[39m.\u001b[39mstderr \u001b[39m=\u001b[39m io\u001b[39m.\u001b[39mTextIOWrapper(\u001b[39mself\u001b[39m\u001b[39m.\u001b[39mstderr,\n\u001b[1;32m   1024\u001b[0m                     encoding\u001b[39m=\u001b[39mencoding, errors\u001b[39m=\u001b[39merrors)\n\u001b[0;32m-> 1026\u001b[0m     \u001b[39mself\u001b[39;49m\u001b[39m.\u001b[39;49m_execute_child(args, executable, preexec_fn, close_fds,\n\u001b[1;32m   1027\u001b[0m                         pass_fds, cwd, env,\n\u001b[1;32m   1028\u001b[0m                         startupinfo, creationflags, shell,\n\u001b[1;32m   1029\u001b[0m                         p2cread, p2cwrite,\n\u001b[1;32m   1030\u001b[0m                         c2pread, c2pwrite,\n\u001b[1;32m   1031\u001b[0m                         errread, errwrite,\n\u001b[1;32m   1032\u001b[0m                         restore_signals,\n\u001b[1;32m   1033\u001b[0m                         gid, gids, uid, umask,\n\u001b[1;32m   1034\u001b[0m                         start_new_session, process_group)\n\u001b[1;32m   1035\u001b[0m \u001b[39mexcept\u001b[39;00m:\n\u001b[1;32m   1036\u001b[0m     \u001b[39m# Cleanup if the child failed starting.\u001b[39;00m\n",
      "File \u001b[0;32m~/anaconda3/envs/GRBAI/lib/python3.12/subprocess.py:1955\u001b[0m, in \u001b[0;36mPopen._execute_child\u001b[0;34m(self, args, executable, preexec_fn, close_fds, pass_fds, cwd, env, startupinfo, creationflags, shell, p2cread, p2cwrite, c2pread, c2pwrite, errread, errwrite, restore_signals, gid, gids, uid, umask, start_new_session, process_group)\u001b[0m\n\u001b[1;32m   1954\u001b[0m \u001b[39mif\u001b[39;00m err_filename \u001b[39mis\u001b[39;00m \u001b[39mnot\u001b[39;00m \u001b[39mNone\u001b[39;00m:\n\u001b[0;32m-> 1955\u001b[0m     \u001b[39mraise\u001b[39;00m child_exception_type(errno_num, err_msg, err_filename)\n\u001b[1;32m   1956\u001b[0m \u001b[39melse\u001b[39;00m:\n",
      "\u001b[0;31mFileNotFoundError\u001b[0m: [Errno 2] No such file or directory: PosixPath('dot')",
      "\nThe above exception was the direct cause of the following exception:\n",
      "\u001b[0;31mExecutableNotFound\u001b[0m                        Traceback (most recent call last)",
      "Cell \u001b[0;32mIn[9], line 17\u001b[0m\n\u001b[1;32m     11\u001b[0m dot_data \u001b[39m=\u001b[39m tree\u001b[39m.\u001b[39mexport_graphviz(one_tree, out_file\u001b[39m=\u001b[39m\u001b[39mNone\u001b[39;00m, \n\u001b[1;32m     12\u001b[0m                                 feature_names\u001b[39m=\u001b[39mfeatures,  \u001b[39m# feature names used for splitting\u001b[39;00m\n\u001b[1;32m     13\u001b[0m                                 class_names\u001b[39m=\u001b[39m[\u001b[39m'\u001b[39m\u001b[39mShort GRB\u001b[39m\u001b[39m'\u001b[39m, \u001b[39m'\u001b[39m\u001b[39mLong GRB\u001b[39m\u001b[39m'\u001b[39m],  \u001b[39m# class labels\u001b[39;00m\n\u001b[1;32m     14\u001b[0m                                 filled\u001b[39m=\u001b[39m\u001b[39mTrue\u001b[39;00m, rounded\u001b[39m=\u001b[39m\u001b[39mTrue\u001b[39;00m, \n\u001b[1;32m     15\u001b[0m                                 special_characters\u001b[39m=\u001b[39m\u001b[39mTrue\u001b[39;00m)  \n\u001b[1;32m     16\u001b[0m graph \u001b[39m=\u001b[39m graphviz\u001b[39m.\u001b[39mSource(dot_data)  \n\u001b[0;32m---> 17\u001b[0m graph\u001b[39m.\u001b[39;49mrender(\u001b[39m\"\u001b[39;49m\u001b[39mGRB_decision_tree\u001b[39;49m\u001b[39m\"\u001b[39;49m)  \u001b[39m# Save as a file\u001b[39;00m\n\u001b[1;32m     18\u001b[0m graph\u001b[39m.\u001b[39mview()  \u001b[39m# View in a graphical window\u001b[39;00m\n",
      "File \u001b[0;32m~/anaconda3/envs/GRBAI/lib/python3.12/site-packages/graphviz/_tools.py:171\u001b[0m, in \u001b[0;36mdeprecate_positional_args.<locals>.decorator.<locals>.wrapper\u001b[0;34m(*args, **kwargs)\u001b[0m\n\u001b[1;32m    162\u001b[0m     wanted \u001b[39m=\u001b[39m \u001b[39m'\u001b[39m\u001b[39m, \u001b[39m\u001b[39m'\u001b[39m\u001b[39m.\u001b[39mjoin(\u001b[39mf\u001b[39m\u001b[39m'\u001b[39m\u001b[39m{\u001b[39;00mname\u001b[39m}\u001b[39;00m\u001b[39m=\u001b[39m\u001b[39m{\u001b[39;00mvalue\u001b[39m!r}\u001b[39;00m\u001b[39m'\u001b[39m\n\u001b[1;32m    163\u001b[0m                        \u001b[39mfor\u001b[39;00m name, value \u001b[39min\u001b[39;00m deprecated\u001b[39m.\u001b[39mitems())\n\u001b[1;32m    164\u001b[0m     warnings\u001b[39m.\u001b[39mwarn(\u001b[39mf\u001b[39m\u001b[39m'\u001b[39m\u001b[39mThe signature of \u001b[39m\u001b[39m{\u001b[39;00mfunc\u001b[39m.\u001b[39m\u001b[39m__name__\u001b[39m\u001b[39m}\u001b[39;00m\u001b[39m will be reduced\u001b[39m\u001b[39m'\u001b[39m\n\u001b[1;32m    165\u001b[0m                   \u001b[39mf\u001b[39m\u001b[39m'\u001b[39m\u001b[39m to \u001b[39m\u001b[39m{\u001b[39;00msupported_number\u001b[39m}\u001b[39;00m\u001b[39m positional args\u001b[39m\u001b[39m'\u001b[39m\n\u001b[1;32m    166\u001b[0m                   \u001b[39mf\u001b[39m\u001b[39m'\u001b[39m\u001b[39m \u001b[39m\u001b[39m{\u001b[39;00m\u001b[39mlist\u001b[39m(supported)\u001b[39m}\u001b[39;00m\u001b[39m: pass \u001b[39m\u001b[39m{\u001b[39;00mwanted\u001b[39m}\u001b[39;00m\u001b[39m'\u001b[39m\n\u001b[1;32m    167\u001b[0m                   \u001b[39m'\u001b[39m\u001b[39m as keyword arg(s)\u001b[39m\u001b[39m'\u001b[39m,\n\u001b[1;32m    168\u001b[0m                   stacklevel\u001b[39m=\u001b[39mstacklevel,\n\u001b[1;32m    169\u001b[0m                   category\u001b[39m=\u001b[39mcategory)\n\u001b[0;32m--> 171\u001b[0m \u001b[39mreturn\u001b[39;00m func(\u001b[39m*\u001b[39;49margs, \u001b[39m*\u001b[39;49m\u001b[39m*\u001b[39;49mkwargs)\n",
      "File \u001b[0;32m~/anaconda3/envs/GRBAI/lib/python3.12/site-packages/graphviz/rendering.py:122\u001b[0m, in \u001b[0;36mRender.render\u001b[0;34m(self, filename, directory, view, cleanup, format, renderer, formatter, neato_no_op, quiet, quiet_view, outfile, engine, raise_if_result_exists, overwrite_source)\u001b[0m\n\u001b[1;32m    118\u001b[0m filepath \u001b[39m=\u001b[39m \u001b[39mself\u001b[39m\u001b[39m.\u001b[39msave(filename, directory\u001b[39m=\u001b[39mdirectory, skip_existing\u001b[39m=\u001b[39m\u001b[39mNone\u001b[39;00m)\n\u001b[1;32m    120\u001b[0m args\u001b[39m.\u001b[39mappend(filepath)\n\u001b[0;32m--> 122\u001b[0m rendered \u001b[39m=\u001b[39m \u001b[39mself\u001b[39;49m\u001b[39m.\u001b[39;49m_render(\u001b[39m*\u001b[39;49margs, \u001b[39m*\u001b[39;49m\u001b[39m*\u001b[39;49mkwargs)\n\u001b[1;32m    124\u001b[0m \u001b[39mif\u001b[39;00m cleanup:\n\u001b[1;32m    125\u001b[0m     log\u001b[39m.\u001b[39mdebug(\u001b[39m'\u001b[39m\u001b[39mdelete \u001b[39m\u001b[39m%r\u001b[39;00m\u001b[39m'\u001b[39m, filepath)\n",
      "File \u001b[0;32m~/anaconda3/envs/GRBAI/lib/python3.12/site-packages/graphviz/_tools.py:171\u001b[0m, in \u001b[0;36mdeprecate_positional_args.<locals>.decorator.<locals>.wrapper\u001b[0;34m(*args, **kwargs)\u001b[0m\n\u001b[1;32m    162\u001b[0m     wanted \u001b[39m=\u001b[39m \u001b[39m'\u001b[39m\u001b[39m, \u001b[39m\u001b[39m'\u001b[39m\u001b[39m.\u001b[39mjoin(\u001b[39mf\u001b[39m\u001b[39m'\u001b[39m\u001b[39m{\u001b[39;00mname\u001b[39m}\u001b[39;00m\u001b[39m=\u001b[39m\u001b[39m{\u001b[39;00mvalue\u001b[39m!r}\u001b[39;00m\u001b[39m'\u001b[39m\n\u001b[1;32m    163\u001b[0m                        \u001b[39mfor\u001b[39;00m name, value \u001b[39min\u001b[39;00m deprecated\u001b[39m.\u001b[39mitems())\n\u001b[1;32m    164\u001b[0m     warnings\u001b[39m.\u001b[39mwarn(\u001b[39mf\u001b[39m\u001b[39m'\u001b[39m\u001b[39mThe signature of \u001b[39m\u001b[39m{\u001b[39;00mfunc\u001b[39m.\u001b[39m\u001b[39m__name__\u001b[39m\u001b[39m}\u001b[39;00m\u001b[39m will be reduced\u001b[39m\u001b[39m'\u001b[39m\n\u001b[1;32m    165\u001b[0m                   \u001b[39mf\u001b[39m\u001b[39m'\u001b[39m\u001b[39m to \u001b[39m\u001b[39m{\u001b[39;00msupported_number\u001b[39m}\u001b[39;00m\u001b[39m positional args\u001b[39m\u001b[39m'\u001b[39m\n\u001b[1;32m    166\u001b[0m                   \u001b[39mf\u001b[39m\u001b[39m'\u001b[39m\u001b[39m \u001b[39m\u001b[39m{\u001b[39;00m\u001b[39mlist\u001b[39m(supported)\u001b[39m}\u001b[39;00m\u001b[39m: pass \u001b[39m\u001b[39m{\u001b[39;00mwanted\u001b[39m}\u001b[39;00m\u001b[39m'\u001b[39m\n\u001b[1;32m    167\u001b[0m                   \u001b[39m'\u001b[39m\u001b[39m as keyword arg(s)\u001b[39m\u001b[39m'\u001b[39m,\n\u001b[1;32m    168\u001b[0m                   stacklevel\u001b[39m=\u001b[39mstacklevel,\n\u001b[1;32m    169\u001b[0m                   category\u001b[39m=\u001b[39mcategory)\n\u001b[0;32m--> 171\u001b[0m \u001b[39mreturn\u001b[39;00m func(\u001b[39m*\u001b[39;49margs, \u001b[39m*\u001b[39;49m\u001b[39m*\u001b[39;49mkwargs)\n",
      "File \u001b[0;32m~/anaconda3/envs/GRBAI/lib/python3.12/site-packages/graphviz/backend/rendering.py:326\u001b[0m, in \u001b[0;36mrender\u001b[0;34m(engine, format, filepath, renderer, formatter, neato_no_op, quiet, outfile, raise_if_result_exists, overwrite_filepath)\u001b[0m\n\u001b[1;32m    322\u001b[0m cmd \u001b[39m+\u001b[39m\u001b[39m=\u001b[39m args\n\u001b[1;32m    324\u001b[0m \u001b[39massert\u001b[39;00m filepath \u001b[39mis\u001b[39;00m \u001b[39mnot\u001b[39;00m \u001b[39mNone\u001b[39;00m, \u001b[39m'\u001b[39m\u001b[39mwork around pytype false alarm\u001b[39m\u001b[39m'\u001b[39m\n\u001b[0;32m--> 326\u001b[0m execute\u001b[39m.\u001b[39;49mrun_check(cmd,\n\u001b[1;32m    327\u001b[0m                   cwd\u001b[39m=\u001b[39;49mfilepath\u001b[39m.\u001b[39;49mparent \u001b[39mif\u001b[39;49;00m filepath\u001b[39m.\u001b[39;49mparent\u001b[39m.\u001b[39;49mparts \u001b[39melse\u001b[39;49;00m \u001b[39mNone\u001b[39;49;00m,\n\u001b[1;32m    328\u001b[0m                   quiet\u001b[39m=\u001b[39;49mquiet,\n\u001b[1;32m    329\u001b[0m                   capture_output\u001b[39m=\u001b[39;49m\u001b[39mTrue\u001b[39;49;00m)\n\u001b[1;32m    331\u001b[0m \u001b[39mreturn\u001b[39;00m os\u001b[39m.\u001b[39mfspath(outfile)\n",
      "File \u001b[0;32m~/anaconda3/envs/GRBAI/lib/python3.12/site-packages/graphviz/backend/execute.py:81\u001b[0m, in \u001b[0;36mrun_check\u001b[0;34m(cmd, input_lines, encoding, quiet, **kwargs)\u001b[0m\n\u001b[1;32m     79\u001b[0m \u001b[39mexcept\u001b[39;00m \u001b[39mOSError\u001b[39;00m \u001b[39mas\u001b[39;00m e:\n\u001b[1;32m     80\u001b[0m     \u001b[39mif\u001b[39;00m e\u001b[39m.\u001b[39merrno \u001b[39m==\u001b[39m errno\u001b[39m.\u001b[39mENOENT:\n\u001b[0;32m---> 81\u001b[0m         \u001b[39mraise\u001b[39;00m ExecutableNotFound(cmd) \u001b[39mfrom\u001b[39;00m \u001b[39me\u001b[39;00m\n\u001b[1;32m     82\u001b[0m     \u001b[39mraise\u001b[39;00m\n\u001b[1;32m     84\u001b[0m \u001b[39mif\u001b[39;00m \u001b[39mnot\u001b[39;00m quiet \u001b[39mand\u001b[39;00m proc\u001b[39m.\u001b[39mstderr:\n",
      "\u001b[0;31mExecutableNotFound\u001b[0m: failed to execute PosixPath('dot'), make sure the Graphviz executables are on your systems' PATH"
     ]
    }
   ],
   "source": [
    "from sklearn.tree import export_graphviz\n",
    "from sklearn import tree\n",
    "import matplotlib.pyplot as plt\n",
    "import graphviz\n",
    "\n",
    "# Assuming clf is your trained Random Forest model\n",
    "# Extract one tree from the forest (e.g., the first tree)\n",
    "one_tree = clf.estimators_[0]\n",
    "\n",
    "# Visualize the tree\n",
    "dot_data = tree.export_graphviz(one_tree, out_file=None, \n",
    "                                feature_names=features,  # feature names used for splitting\n",
    "                                class_names=['Short GRB', 'Long GRB'],  # class labels\n",
    "                                filled=True, rounded=True, \n",
    "                                special_characters=True)  \n",
    "graph = graphviz.Source(dot_data)  \n",
    "graph.render(\"GRB_decision_tree\")  # Save as a file\n",
    "graph.view()  # View in a graphical window"
   ]
  },
  {
   "cell_type": "code",
   "execution_count": 10,
   "id": "83d7de1f",
   "metadata": {},
   "outputs": [
    {
     "name": "stdout",
     "output_type": "stream",
     "text": [
      "|--- T90 <= -0.67\n",
      "|   |--- class: 0.0\n",
      "|--- T90 >  -0.67\n",
      "|   |--- class: 1.0\n",
      "\n"
     ]
    }
   ],
   "source": [
    "from sklearn.tree import export_text\n",
    "\n",
    "# Print the decision rules for the first tree\n",
    "tree_rules = export_text(one_tree, feature_names=features)\n",
    "print(tree_rules)"
   ]
  },
  {
   "cell_type": "code",
   "execution_count": null,
   "id": "1d3a4bc0",
   "metadata": {},
   "outputs": [
    {
     "name": "stdout",
     "output_type": "stream",
     "text": [
      "T90    0.532981\n",
      "T50    0.467019\n",
      "dtype: float64\n"
     ]
    }
   ],
   "source": [
    "importances = clf.feature_importances_\n",
    "feature_importance = pd.Series(importances, index=features).sort_values(ascending=False)\n",
    "print(feature_importance)"
   ]
  },
  {
   "cell_type": "code",
   "execution_count": null,
   "id": "006fea6e",
   "metadata": {},
   "outputs": [
    {
     "name": "stdout",
     "output_type": "stream",
     "text": [
      "Tree depth: 1\n",
      "Number of leaves: 2\n"
     ]
    }
   ],
   "source": [
    "print(f\"Tree depth: {one_tree.tree_.max_depth}\")\n",
    "print(f\"Number of leaves: {one_tree.get_n_leaves()}\")"
   ]
  },
  {
   "cell_type": "code",
   "execution_count": null,
   "id": "f2715bd6",
   "metadata": {},
   "outputs": [
    {
     "name": "stdout",
     "output_type": "stream",
     "text": [
      "Decision path for the first sample: <Compressed Sparse Row sparse matrix of dtype 'int64'\n",
      "\twith 2 stored elements and shape (1, 3)>\n",
      "  Coords\tValues\n",
      "  (0, 0)\t1\n",
      "  (0, 2)\t1\n"
     ]
    }
   ],
   "source": [
    "# Example: Trace the decision path for the first sample in the test set\n",
    "sample = X_test[0].reshape(1, -1)\n",
    "decision_path = one_tree.decision_path(sample)\n",
    "print(f\"Decision path for the first sample: {decision_path}\")"
   ]
  }
 ],
 "metadata": {
  "kernelspec": {
   "display_name": "Python 3 (ipykernel)",
   "language": "python",
   "name": "python3"
  },
  "language_info": {
   "codemirror_mode": {
    "name": "ipython",
    "version": 3
   },
   "file_extension": ".py",
   "mimetype": "text/x-python",
   "name": "python",
   "nbconvert_exporter": "python",
   "pygments_lexer": "ipython3",
   "version": "3.12.4"
  }
 },
 "nbformat": 4,
 "nbformat_minor": 5
}
