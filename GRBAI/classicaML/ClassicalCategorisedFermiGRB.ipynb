{
 "cells": [
  {
   "cell_type": "code",
   "execution_count": 2,
   "metadata": {},
   "outputs": [],
   "source": [
    "import numpy as np\n",
    "import pandas as pd\n",
    "from sklearn.model_selection import train_test_split\n",
    "from sklearn.preprocessing import StandardScaler\n",
    "from sklearn.ensemble import RandomForestClassifier\n",
    "from sklearn.metrics import classification_report, accuracy_score\n",
    "\n",
    "import matplotlib.pyplot as plt\n",
    "from sklearn.cluster import KMeans"
   ]
  },
  {
   "cell_type": "code",
   "execution_count": 3,
   "metadata": {},
   "outputs": [],
   "source": [
    "verbose = False"
   ]
  },
  {
   "cell_type": "code",
   "execution_count": 4,
   "metadata": {},
   "outputs": [
    {
     "name": "stderr",
     "output_type": "stream",
     "text": [
      "/var/folders/l9/wzf2dk9964sdl5zk6cl92hvm0000gp/T/ipykernel_9751/2784403070.py:13: FutureWarning: The 'delim_whitespace' keyword in pd.read_csv is deprecated and will be removed in a future version. Use ``sep='\\s+'`` instead\n",
      "  df_fermi = pd.read_csv(\"../datasets/fermi-gbm.fits\", delim_whitespace=True, names=col_names, comment='/', skiprows=50)\n"
     ]
    },
    {
     "data": {
      "text/html": [
       "<div>\n",
       "<style scoped>\n",
       "    .dataframe tbody tr th:only-of-type {\n",
       "        vertical-align: middle;\n",
       "    }\n",
       "\n",
       "    .dataframe tbody tr th {\n",
       "        vertical-align: top;\n",
       "    }\n",
       "\n",
       "    .dataframe thead th {\n",
       "        text-align: right;\n",
       "    }\n",
       "</style>\n",
       "<table border=\"1\" class=\"dataframe\">\n",
       "  <thead>\n",
       "    <tr style=\"text-align: right;\">\n",
       "      <th></th>\n",
       "      <th>NAME</th>\n",
       "      <th>RA</th>\n",
       "      <th>DEC</th>\n",
       "      <th>TRIGGER_TIME</th>\n",
       "      <th>T90</th>\n",
       "      <th>T90_ERROR</th>\n",
       "      <th>T90_START</th>\n",
       "      <th>FLUENCE</th>\n",
       "      <th>FLUENCE_ERROR</th>\n",
       "      <th>FLUX_1024</th>\n",
       "      <th>...</th>\n",
       "      <th>PFLX_PLAW_INDEX_NEG_ERR</th>\n",
       "      <th>PFLX_PLAW_PHTFLUX</th>\n",
       "      <th>PFLX_PLAW_PHTFLNC</th>\n",
       "      <th>PFLX_PLAW_ERGFLUX</th>\n",
       "      <th>PFLX_COMP_EPEAK</th>\n",
       "      <th>PFLX_COMP_PIVOT</th>\n",
       "      <th>PFLX_BAND_EPEAK</th>\n",
       "      <th>PFLX_BAND_ALPHA</th>\n",
       "      <th>PFLX_BAND_BETA</th>\n",
       "      <th>PFLX_BAND_PHTFLUX</th>\n",
       "    </tr>\n",
       "  </thead>\n",
       "  <tbody>\n",
       "    <tr>\n",
       "      <th>0</th>\n",
       "      <td>GRB200119692</td>\n",
       "      <td>271.04</td>\n",
       "      <td>-77.14</td>\n",
       "      <td>58867.692448</td>\n",
       "      <td>19.200</td>\n",
       "      <td>1.999</td>\n",
       "      <td>-10.240</td>\n",
       "      <td>1.874300e-06</td>\n",
       "      <td>2.994000e-08</td>\n",
       "      <td>4.7410</td>\n",
       "      <td>...</td>\n",
       "      <td>NaN</td>\n",
       "      <td>NaN</td>\n",
       "      <td>NaN</td>\n",
       "      <td>NaN</td>\n",
       "      <td>NaN</td>\n",
       "      <td>NaN</td>\n",
       "      <td>NaN</td>\n",
       "      <td>NaN</td>\n",
       "      <td>NaN</td>\n",
       "      <td>NaN</td>\n",
       "    </tr>\n",
       "    <tr>\n",
       "      <th>1</th>\n",
       "      <td>GRB210919653</td>\n",
       "      <td>215.16</td>\n",
       "      <td>-77.10</td>\n",
       "      <td>59476.652685</td>\n",
       "      <td>1.600</td>\n",
       "      <td>1.243</td>\n",
       "      <td>-0.064</td>\n",
       "      <td>3.307100e-07</td>\n",
       "      <td>1.425300e-08</td>\n",
       "      <td>2.3367</td>\n",
       "      <td>...</td>\n",
       "      <td>NaN</td>\n",
       "      <td>NaN</td>\n",
       "      <td>NaN</td>\n",
       "      <td>NaN</td>\n",
       "      <td>NaN</td>\n",
       "      <td>NaN</td>\n",
       "      <td>NaN</td>\n",
       "      <td>NaN</td>\n",
       "      <td>NaN</td>\n",
       "      <td>NaN</td>\n",
       "    </tr>\n",
       "    <tr>\n",
       "      <th>2</th>\n",
       "      <td>GRB210826293</td>\n",
       "      <td>64.63</td>\n",
       "      <td>-77.07</td>\n",
       "      <td>59452.292884</td>\n",
       "      <td>19.712</td>\n",
       "      <td>1.145</td>\n",
       "      <td>0.512</td>\n",
       "      <td>1.205200e-05</td>\n",
       "      <td>6.061600e-08</td>\n",
       "      <td>7.5118</td>\n",
       "      <td>...</td>\n",
       "      <td>NaN</td>\n",
       "      <td>NaN</td>\n",
       "      <td>NaN</td>\n",
       "      <td>NaN</td>\n",
       "      <td>NaN</td>\n",
       "      <td>NaN</td>\n",
       "      <td>NaN</td>\n",
       "      <td>NaN</td>\n",
       "      <td>NaN</td>\n",
       "      <td>NaN</td>\n",
       "    </tr>\n",
       "    <tr>\n",
       "      <th>3</th>\n",
       "      <td>GRB190628521</td>\n",
       "      <td>144.08</td>\n",
       "      <td>-77.07</td>\n",
       "      <td>58662.521474</td>\n",
       "      <td>19.200</td>\n",
       "      <td>2.757</td>\n",
       "      <td>-4.096</td>\n",
       "      <td>2.260600e-06</td>\n",
       "      <td>5.978300e-08</td>\n",
       "      <td>3.1749</td>\n",
       "      <td>...</td>\n",
       "      <td>NaN</td>\n",
       "      <td>NaN</td>\n",
       "      <td>NaN</td>\n",
       "      <td>NaN</td>\n",
       "      <td>NaN</td>\n",
       "      <td>NaN</td>\n",
       "      <td>NaN</td>\n",
       "      <td>NaN</td>\n",
       "      <td>NaN</td>\n",
       "      <td>NaN</td>\n",
       "    </tr>\n",
       "    <tr>\n",
       "      <th>4</th>\n",
       "      <td>GRB221203537</td>\n",
       "      <td>355.06</td>\n",
       "      <td>-68.97</td>\n",
       "      <td>59916.536799</td>\n",
       "      <td>3.520</td>\n",
       "      <td>0.945</td>\n",
       "      <td>0.000</td>\n",
       "      <td>8.198100e-07</td>\n",
       "      <td>2.093300e-08</td>\n",
       "      <td>3.5211</td>\n",
       "      <td>...</td>\n",
       "      <td>NaN</td>\n",
       "      <td>NaN</td>\n",
       "      <td>NaN</td>\n",
       "      <td>NaN</td>\n",
       "      <td>NaN</td>\n",
       "      <td>NaN</td>\n",
       "      <td>NaN</td>\n",
       "      <td>NaN</td>\n",
       "      <td>NaN</td>\n",
       "      <td>NaN</td>\n",
       "    </tr>\n",
       "  </tbody>\n",
       "</table>\n",
       "<p>5 rows × 33 columns</p>\n",
       "</div>"
      ],
      "text/plain": [
       "           NAME      RA    DEC  TRIGGER_TIME     T90  T90_ERROR  T90_START  \\\n",
       "0  GRB200119692  271.04 -77.14  58867.692448  19.200      1.999    -10.240   \n",
       "1  GRB210919653  215.16 -77.10  59476.652685   1.600      1.243     -0.064   \n",
       "2  GRB210826293   64.63 -77.07  59452.292884  19.712      1.145      0.512   \n",
       "3  GRB190628521  144.08 -77.07  58662.521474  19.200      2.757     -4.096   \n",
       "4  GRB221203537  355.06 -68.97  59916.536799   3.520      0.945      0.000   \n",
       "\n",
       "        FLUENCE  FLUENCE_ERROR  FLUX_1024  ...  PFLX_PLAW_INDEX_NEG_ERR  \\\n",
       "0  1.874300e-06   2.994000e-08     4.7410  ...                      NaN   \n",
       "1  3.307100e-07   1.425300e-08     2.3367  ...                      NaN   \n",
       "2  1.205200e-05   6.061600e-08     7.5118  ...                      NaN   \n",
       "3  2.260600e-06   5.978300e-08     3.1749  ...                      NaN   \n",
       "4  8.198100e-07   2.093300e-08     3.5211  ...                      NaN   \n",
       "\n",
       "   PFLX_PLAW_PHTFLUX  PFLX_PLAW_PHTFLNC  PFLX_PLAW_ERGFLUX  PFLX_COMP_EPEAK  \\\n",
       "0                NaN                NaN                NaN              NaN   \n",
       "1                NaN                NaN                NaN              NaN   \n",
       "2                NaN                NaN                NaN              NaN   \n",
       "3                NaN                NaN                NaN              NaN   \n",
       "4                NaN                NaN                NaN              NaN   \n",
       "\n",
       "   PFLX_COMP_PIVOT  PFLX_BAND_EPEAK  PFLX_BAND_ALPHA  PFLX_BAND_BETA  \\\n",
       "0              NaN              NaN              NaN             NaN   \n",
       "1              NaN              NaN              NaN             NaN   \n",
       "2              NaN              NaN              NaN             NaN   \n",
       "3              NaN              NaN              NaN             NaN   \n",
       "4              NaN              NaN              NaN             NaN   \n",
       "\n",
       "   PFLX_BAND_PHTFLUX  \n",
       "0                NaN  \n",
       "1                NaN  \n",
       "2                NaN  \n",
       "3                NaN  \n",
       "4                NaN  \n",
       "\n",
       "[5 rows x 33 columns]"
      ]
     },
     "execution_count": 4,
     "metadata": {},
     "output_type": "execute_result"
    }
   ],
   "source": [
    "# Spécifiez les colonnes manuellement (remplacez-les par les vraies si possible)\n",
    "col_names = [\"NAME\", \"RA\", \"DEC\", \"TRIGGER_TIME\", \"T90\", \"T90_ERROR\", \"T90_START\", \n",
    "             \"FLUENCE\", \"FLUENCE_ERROR\", \"FLUX_1024\", \"FLUX_1024_ERROR\", \"FLUX_1024_TIME\", \n",
    "             \"FLUX_64\", \"FLUX_64_ERROR\", \"FLNC_BAND_EPEAK\", \"ERROR_RADIUS\", \"T50\", \"T50_ERROR\", \n",
    "             \"T50_START\", \"PFLX_PLAW_AMPL\", \"PFLX_PLAW_PIVOT\", \"PFLX_PLAW_INDEX\", \n",
    "             \"PFLX_PLAW_INDEX_POS_ERR\", \"PFLX_PLAW_INDEX_NEG_ERR\", \"PFLX_PLAW_PHTFLUX\", \n",
    "             \"PFLX_PLAW_PHTFLNC\", \"PFLX_PLAW_ERGFLUX\", \"PFLX_COMP_EPEAK\", \"PFLX_COMP_PIVOT\", \n",
    "             \"PFLX_BAND_EPEAK\", \"PFLX_BAND_ALPHA\", \"PFLX_BAND_BETA\", \"PFLX_BAND_PHTFLUX\"]\n",
    "\n",
    "# selected_columns = [\"FLUENCE\", \"FLUX_1024\", \"FLUX_64\", \"FLNC_BAND_EPEAK\", \"PFLX_PLAW_AMPL\", \"PFLX_PLAW_PIVOT\", \"PFLX_PLAW_INDEX\", \"PFLX_PLAW_PHTFLUX\", \"PFLX_PLAW_PHTFLNC\", \"PFLX_PLAW_ERGFLUX\"]\n",
    "\n",
    "# Lire le fichier en ignorant les lignes de l’en-tête\n",
    "df_fermi = pd.read_csv(\"../datasets/fermi-gbm.fits\", delim_whitespace=True, names=col_names, comment='/', skiprows=50)\n",
    "# df_new = pd.read_csv(\"../../../datasets/fermi-gbm.fits\", delim_whitespace=True, comment='/', skiprows=49, header=0)\n",
    "df_fermi.head()"
   ]
  },
  {
   "cell_type": "code",
   "execution_count": 5,
   "metadata": {},
   "outputs": [
    {
     "name": "stdout",
     "output_type": "stream",
     "text": [
      "<class 'pandas.core.frame.DataFrame'>\n",
      "RangeIndex: 3825 entries, 0 to 3824\n",
      "Data columns (total 33 columns):\n",
      " #   Column                   Non-Null Count  Dtype  \n",
      "---  ------                   --------------  -----  \n",
      " 0   NAME                     3825 non-null   object \n",
      " 1   RA                       3825 non-null   float64\n",
      " 2   DEC                      3825 non-null   float64\n",
      " 3   TRIGGER_TIME             3825 non-null   float64\n",
      " 4   T90                      3825 non-null   float64\n",
      " 5   T90_ERROR                3825 non-null   float64\n",
      " 6   T90_START                3825 non-null   float64\n",
      " 7   FLUENCE                  3825 non-null   float64\n",
      " 8   FLUENCE_ERROR            3825 non-null   float64\n",
      " 9   FLUX_1024                3825 non-null   float64\n",
      " 10  FLUX_1024_ERROR          3825 non-null   float64\n",
      " 11  FLUX_1024_TIME           3825 non-null   float64\n",
      " 12  FLUX_64                  3825 non-null   float64\n",
      " 13  FLUX_64_ERROR            3825 non-null   float64\n",
      " 14  FLNC_BAND_EPEAK          3825 non-null   float64\n",
      " 15  ERROR_RADIUS             3825 non-null   float64\n",
      " 16  T50                      3825 non-null   float64\n",
      " 17  T50_ERROR                3825 non-null   float64\n",
      " 18  T50_START                2287 non-null   float64\n",
      " 19  PFLX_PLAW_AMPL           2275 non-null   float64\n",
      " 20  PFLX_PLAW_PIVOT          2274 non-null   float64\n",
      " 21  PFLX_PLAW_INDEX          2274 non-null   float64\n",
      " 22  PFLX_PLAW_INDEX_POS_ERR  2274 non-null   float64\n",
      " 23  PFLX_PLAW_INDEX_NEG_ERR  2274 non-null   float64\n",
      " 24  PFLX_PLAW_PHTFLUX        2274 non-null   float64\n",
      " 25  PFLX_PLAW_PHTFLNC        2274 non-null   float64\n",
      " 26  PFLX_PLAW_ERGFLUX        2274 non-null   float64\n",
      " 27  PFLX_COMP_EPEAK          2274 non-null   float64\n",
      " 28  PFLX_COMP_PIVOT          2272 non-null   float64\n",
      " 29  PFLX_BAND_EPEAK          2272 non-null   float64\n",
      " 30  PFLX_BAND_ALPHA          2272 non-null   float64\n",
      " 31  PFLX_BAND_BETA           2270 non-null   float64\n",
      " 32  PFLX_BAND_PHTFLUX        2270 non-null   float64\n",
      "dtypes: float64(32), object(1)\n",
      "memory usage: 986.3+ KB\n"
     ]
    }
   ],
   "source": [
    "df_fermi.info()"
   ]
  },
  {
   "cell_type": "code",
   "execution_count": 6,
   "metadata": {},
   "outputs": [],
   "source": [
    "df_fermi['category'] = df_fermi['T90'].apply(lambda x: 'low' if x < 2 else ('high' if x > 20 else 'undefined'))         "
   ]
  },
  {
   "cell_type": "code",
   "execution_count": 7,
   "metadata": {},
   "outputs": [
    {
     "name": "stdout",
     "output_type": "stream",
     "text": [
      "<class 'pandas.core.frame.DataFrame'>\n",
      "RangeIndex: 3825 entries, 0 to 3824\n",
      "Data columns (total 11 columns):\n",
      " #   Column             Non-Null Count  Dtype  \n",
      "---  ------             --------------  -----  \n",
      " 0   FLUENCE            3825 non-null   float64\n",
      " 1   FLUX_1024          3825 non-null   float64\n",
      " 2   FLUX_64            3825 non-null   float64\n",
      " 3   FLNC_BAND_EPEAK    3825 non-null   float64\n",
      " 4   PFLX_PLAW_AMPL     2275 non-null   float64\n",
      " 5   PFLX_PLAW_PIVOT    2274 non-null   float64\n",
      " 6   PFLX_PLAW_INDEX    2274 non-null   float64\n",
      " 7   PFLX_PLAW_PHTFLUX  2274 non-null   float64\n",
      " 8   PFLX_PLAW_PHTFLNC  2274 non-null   float64\n",
      " 9   PFLX_PLAW_ERGFLUX  2274 non-null   float64\n",
      " 10  category           3825 non-null   object \n",
      "dtypes: float64(10), object(1)\n",
      "memory usage: 328.8+ KB\n"
     ]
    }
   ],
   "source": [
    "selected_columns = [\"FLUENCE\", \"FLUX_1024\", \"FLUX_64\", \"FLNC_BAND_EPEAK\", \"PFLX_PLAW_AMPL\", \"PFLX_PLAW_PIVOT\", \"PFLX_PLAW_INDEX\", \"PFLX_PLAW_PHTFLUX\", \"PFLX_PLAW_PHTFLNC\", \"PFLX_PLAW_ERGFLUX\", \"category\"]\n",
    "\n",
    "df_fermi =df_fermi[selected_columns]\n",
    "df_fermi.info()\n"
   ]
  },
  {
   "cell_type": "code",
   "execution_count": 8,
   "metadata": {},
   "outputs": [
    {
     "name": "stdout",
     "output_type": "stream",
     "text": [
      "Number of NaN values in the FLUENCE: 0\n",
      "Number of NaN values in the FLUX_1024: 0\n",
      "Number of NaN values in the FLUX_64: 0\n",
      "Number of NaN values in the FLNC_BAND_EPEAK: 0\n",
      "Number of NaN values in the PFLX_PLAW_AMPL: 1550\n",
      "Number of NaN values in the PFLX_PLAW_PIVOT: 1551\n",
      "Number of NaN values in the PFLX_PLAW_INDEX: 1551\n",
      "Number of NaN values in the PFLX_PLAW_PHTFLUX: 1551\n",
      "Number of NaN values in the PFLX_PLAW_PHTFLNC: 1551\n",
      "Number of NaN values in the PFLX_PLAW_ERGFLUX: 1551\n",
      "Number of NaN values in the category: 0\n"
     ]
    }
   ],
   "source": [
    "for column in df_fermi.columns :\n",
    "    nan_count = df_fermi[column].isna().sum()\n",
    "    print(f\"Number of NaN values in the {column}: {nan_count}\")"
   ]
  },
  {
   "cell_type": "code",
   "execution_count": 9,
   "metadata": {},
   "outputs": [
    {
     "name": "stdout",
     "output_type": "stream",
     "text": [
      "<class 'pandas.core.frame.DataFrame'>\n",
      "Index: 2274 entries, 5 to 3824\n",
      "Data columns (total 11 columns):\n",
      " #   Column             Non-Null Count  Dtype  \n",
      "---  ------             --------------  -----  \n",
      " 0   FLUENCE            2274 non-null   float64\n",
      " 1   FLUX_1024          2274 non-null   float64\n",
      " 2   FLUX_64            2274 non-null   float64\n",
      " 3   FLNC_BAND_EPEAK    2274 non-null   float64\n",
      " 4   PFLX_PLAW_AMPL     2274 non-null   float64\n",
      " 5   PFLX_PLAW_PIVOT    2274 non-null   float64\n",
      " 6   PFLX_PLAW_INDEX    2274 non-null   float64\n",
      " 7   PFLX_PLAW_PHTFLUX  2274 non-null   float64\n",
      " 8   PFLX_PLAW_PHTFLNC  2274 non-null   float64\n",
      " 9   PFLX_PLAW_ERGFLUX  2274 non-null   float64\n",
      " 10  category           2274 non-null   object \n",
      "dtypes: float64(10), object(1)\n",
      "memory usage: 213.2+ KB\n"
     ]
    }
   ],
   "source": [
    "df_fermi = df_fermi.dropna()\n",
    "df_fermi.info()"
   ]
  },
  {
   "cell_type": "code",
   "execution_count": 10,
   "metadata": {},
   "outputs": [],
   "source": [
    "X = df_fermi.drop(columns=['category'])  \n",
    "y = df_fermi['category']"
   ]
  },
  {
   "cell_type": "code",
   "execution_count": 11,
   "metadata": {},
   "outputs": [],
   "source": [
    "# Algorithme de K-means\n",
    "kmeans = KMeans(n_clusters = 2)\n",
    "kmeans.fit(X)\n",
    "\n",
    "# Centroids and labels\n",
    "centroids = kmeans.cluster_centers_\n",
    "labels = kmeans.labels_"
   ]
  },
  {
   "cell_type": "code",
   "execution_count": 12,
   "metadata": {},
   "outputs": [
    {
     "data": {
      "image/png": "[encoded data removed]",
      "text/plain": [
       "<Figure size 1000x600 with 1 Axes>"
      ]
     },
     "metadata": {},
     "output_type": "display_data"
    }
   ],
   "source": [
    "plt.figure(figsize=(10, 6))\n",
    "\n",
    "# Graphique du nuage de points pour chaque cluster\n",
    "plt.scatter(X.iloc[labels == 0, 0], X.iloc[labels == 0, 1], c='green', label='Cluster 1')\n",
    "plt.scatter(X.iloc[labels == 1, 0], X.iloc[labels == 1, 1], c='red', label='Cluster 2')\n",
    "\n",
    "# Graphique des centroïdes\n",
    "plt.scatter(centroids[:, 0], centroids[:, 1], marker='*', s=200, c='black', label='Centroids')\n",
    "\n",
    "# Ajout des légendes et titres\n",
    "plt.legend()\n",
    "plt.title('K-means Clustering avec 2 Clusters')\n",
    "plt.xlabel('Feature 1')\n",
    "plt.ylabel('Feature 2')\n",
    "\n",
    "plt.show()"
   ]
  },
  {
   "cell_type": "code",
   "execution_count": 13,
   "metadata": {},
   "outputs": [
    {
     "name": "stdout",
     "output_type": "stream",
     "text": [
      "2274 2274\n"
     ]
    }
   ],
   "source": [
    "print(len(labels), len(df_fermi))\n"
   ]
  },
  {
   "cell_type": "code",
   "execution_count": 14,
   "metadata": {},
   "outputs": [],
   "source": [
    "# Importation de la fonction cdist du package scipy.spatial.distance\n",
    "from scipy.spatial.distance import cdist\n",
    "\n",
    "# Liste des nombres de clusters\n",
    "range_n_clusters = [2, 3, 4, 5, 6]  \n",
    "\n",
    "# Initialisation de la liste de distorsions\n",
    "distorsions = []\n",
    "\n",
    "# Calcul des distorsions pour les différents modèles\n",
    "for n_clusters in range_n_clusters:\n",
    "    \n",
    "    # Initialisation d'un cluster ayant un pour nombre de clusters n_clusters\n",
    "    cluster = KMeans(n_clusters = n_clusters)\n",
    "    \n",
    "    # Apprentissage des données suivant le cluster construit ci-dessus\n",
    "    cluster.fit(X)\n",
    "    \n",
    "    # Ajout de la nouvelle distorsion à la liste des données\n",
    "    distorsions.append(sum(np.min(cdist(X, cluster.cluster_centers_, 'euclidean'), axis=1)) / np.size(X, axis = 0))"
   ]
  },
  {
   "cell_type": "code",
   "execution_count": 15,
   "metadata": {},
   "outputs": [
    {
     "data": {
      "image/png": "[encoded data removed]",
      "text/plain": [
       "<Figure size 640x480 with 1 Axes>"
      ]
     },
     "metadata": {},
     "output_type": "display_data"
    }
   ],
   "source": [
    "# Visualisation des distorsions en fonction du nombre de clusters\n",
    "plt.plot(range_n_clusters, distorsions, 'gx-')\n",
    "plt.xlabel('Nombre de Clusters K')\n",
    "plt.ylabel('Distorsion SSW/(SSW+SSB)')\n",
    "plt.title('Méthode du coude affichant le nombre de clusters optimal')\n",
    "plt.show()\n"
   ]
  },
  {
   "cell_type": "code",
   "execution_count": null,
   "metadata": {},
   "outputs": [],
   "source": []
  }
 ],
 "metadata": {
  "kernelspec": {
   "display_name": "Python 3",
   "language": "python",
   "name": "python3"
  },
  "language_info": {
   "codemirror_mode": {
    "name": "ipython",
    "version": 3
   },
   "file_extension": ".py",
   "mimetype": "text/x-python",
   "name": "python",
   "nbconvert_exporter": "python",
   "pygments_lexer": "ipython3",
   "version": "3.12.4"
  }
 },
 "nbformat": 4,
 "nbformat_minor": 2
}
