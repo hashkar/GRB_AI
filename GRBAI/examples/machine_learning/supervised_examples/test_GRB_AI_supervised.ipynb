{
 "cells": [
  {
   "cell_type": "code",
   "execution_count": 1,
   "id": "df8b5431-ecb5-44a4-bc3a-de545d5b55cf",
   "metadata": {},
   "outputs": [],
   "source": [
    "#IMPORTS\n",
    "import numpy as np\n",
    "import pandas as pd\n",
    "from sklearn.model_selection import train_test_split\n",
    "from sklearn.preprocessing import StandardScaler\n",
    "from sklearn.ensemble import RandomForestClassifier\n",
    "from sklearn.metrics import classification_report, accuracy_score\n",
    "import warnings\n",
    "\n"
   ]
  },
  {
   "cell_type": "code",
   "execution_count": 2,
   "id": "93aca68d-d13d-41e1-a58c-a4f9aa7772ef",
   "metadata": {},
   "outputs": [],
   "source": [
    "warnings.filterwarnings('ignore')"
   ]
  },
  {
   "cell_type": "code",
   "execution_count": 6,
   "id": "288d852d-7674-4d67-8576-ef7c5087b7b7",
   "metadata": {},
   "outputs": [
    {
     "name": "stdout",
     "output_type": "stream",
     "text": [
      "   ## GRBname    Trig_ID  Trig_time_met               Trig_time_UTC  \\\n",
      "0  GRB231215A  1202522.0   7.243265e+08  2023-12-15T09:47:25.273080   \n",
      "1  GRB231214A  1202386.0   7.242783e+08  2023-12-14T20:24:28.316380   \n",
      "2  GRB231210B  1201696.0   7.239366e+08  2023-12-10T21:29:04.499760   \n",
      "3  GRB231205B  1200812.0   7.234875e+08  2023-12-05T16:43:59.506460   \n",
      "4  GRB231129A  1199764.0   7.229272e+08  2023-11-29T05:05:59.096760   \n",
      "\n",
      "   RA_ground  DEC_ground  Image_position_err  Image_SNR      T90    T90_err  \\\n",
      "0    9.72982    57.63370            1.296588   20.98807   22.096   3.472525   \n",
      "1  305.66880   -72.43144            0.917670   34.38932   27.636   4.568637   \n",
      "2   95.80293   -48.33463            1.761250   13.55020    7.472   0.647951   \n",
      "3   54.15053    27.14630            0.978140   31.39288   64.000  16.000000   \n",
      "4  317.54100    41.53033            0.960403   32.22439  106.324   2.018324   \n",
      "\n",
      "      T50    T50_err  Evt_start_sincetrig  Evt_stop_sincetrig   pcode  \\\n",
      "0   7.040   1.432603               -240.0               962.0  0.0654   \n",
      "1  13.820   0.536731                -61.0               984.0  0.3906   \n",
      "2   4.048   0.892135                -60.0               963.0  0.1758   \n",
      "3  16.000  16.000000               -239.0               963.0  0.5078   \n",
      "4  66.520   1.336700               -240.0               963.0  0.4648   \n",
      "\n",
      "  Trigger_method XRT_detection comment  \n",
      "0   rate trigger           Yes     NaN  \n",
      "1   rate trigger           Yes     NaN  \n",
      "2   rate trigger           Yes     NaN  \n",
      "3  image trigger           Yes     NaN  \n",
      "4   rate trigger           Yes     NaN  \n",
      "0        22.096\n",
      "1        27.636\n",
      "2         7.472\n",
      "3        64.000\n",
      "4       106.324\n",
      "         ...   \n",
      "1584      5.584\n",
      "1585     10.000\n",
      "1586      9.856\n",
      "1587        NaN\n",
      "1588      5.668\n",
      "Name: T90, Length: 1589, dtype: float64\n"
     ]
    }
   ],
   "source": [
    "# Load the dataset\n",
    "data = pd.read_csv('../../../datasets/summary_general-2.txt', sep=r'\\s*\\|\\s*', engine='python')\n",
    "# Display the first few rows of the dataset\n",
    "print(data.head())\n",
    "print(data['T90'])"
   ]
  },
  {
   "cell_type": "code",
   "execution_count": 26,
   "id": "31cd2d7f-bb23-4802-9126-f26766354d38",
   "metadata": {},
   "outputs": [],
   "source": [
    "# Assuming 'T90' is the column for duration in the dataset\n",
    "threshold = 2  # typically, GRBs with T90 < 2 seconds are considered short\n",
    "\n",
    "# Create a new column 'GRB_class' where 0 = short, 1 = long\n",
    "data['GRB_class'] = data['T90'].apply(lambda x: 0 if x < threshold else 1)\n",
    "\n",
    "# Select features (you may need to adjust these depending on the dataset)\n",
    "features = ['T50']  # example feature columns\n",
    "X = data[features]\n",
    "y = data['GRB_class']"
   ]
  },
  {
   "cell_type": "code",
   "execution_count": 27,
   "id": "41e684e9-2e0c-4065-a0ad-b2728e99ef8d",
   "metadata": {},
   "outputs": [],
   "source": [
    "# Split the data into training and test sets\n",
    "X_train, X_test, y_train, y_test = train_test_split(X, y, test_size=0.2, random_state=42)\n",
    "\n",
    "# Standardize the feature columns\n",
    "scaler = StandardScaler()\n",
    "X_train = scaler.fit_transform(X_train)\n",
    "X_test = scaler.transform(X_test)"
   ]
  },
  {
   "cell_type": "code",
   "execution_count": 28,
   "id": "f6769e17-6881-4b95-8119-1fa1a60c8620",
   "metadata": {},
   "outputs": [
    {
     "name": "stdout",
     "output_type": "stream",
     "text": [
      "Accuracy: 0.99\n"
     ]
    }
   ],
   "source": [
    "# Initialize the Random Forest classifier\n",
    "clf = RandomForestClassifier(n_estimators=100, random_state=42)\n",
    "\n",
    "# Train the classifier\n",
    "clf.fit(X_train, y_train)\n",
    "\n",
    "# Predict the test set results\n",
    "y_pred = clf.predict(X_test)\n",
    "\n",
    "# Evaluate the model\n",
    "accuracy = accuracy_score(y_test, y_pred)\n",
    "print(f'Accuracy: {accuracy:.2f}')"
   ]
  },
  {
   "cell_type": "code",
   "execution_count": 29,
   "id": "f5d29f45-c0fa-4d12-97ac-be8119ad04ff",
   "metadata": {},
   "outputs": [
    {
     "name": "stdout",
     "output_type": "stream",
     "text": [
      "              precision    recall  f1-score   support\n",
      "\n",
      "   Short GRB       0.94      1.00      0.97        33\n",
      "    Long GRB       1.00      0.99      1.00       285\n",
      "\n",
      "    accuracy                           0.99       318\n",
      "   macro avg       0.97      1.00      0.98       318\n",
      "weighted avg       0.99      0.99      0.99       318\n",
      "\n"
     ]
    }
   ],
   "source": [
    "# Display the classification report\n",
    "print(classification_report(y_test, y_pred, target_names=['Short GRB', 'Long GRB']))"
   ]
  },
  {
   "cell_type": "code",
   "execution_count": 31,
   "metadata": {},
   "outputs": [
    {
     "name": "stdout",
     "output_type": "stream",
     "text": [
      "Mean T50: 32.90323930791257\n",
      "Median T50: nan\n",
      "Standard Deviation of T50: 61.37670318053531\n",
      "Skewness of T50: 5.7574674039619715\n",
      "Kurtosis of T50: 47.01474340900766\n",
      "   ## GRBname    Trig_ID  Trig_time_met               Trig_time_UTC  \\\n",
      "0  GRB231215A  1202522.0   7.243265e+08  2023-12-15T09:47:25.273080   \n",
      "1  GRB231214A  1202386.0   7.242783e+08  2023-12-14T20:24:28.316380   \n",
      "2  GRB231210B  1201696.0   7.239366e+08  2023-12-10T21:29:04.499760   \n",
      "3  GRB231205B  1200812.0   7.234875e+08  2023-12-05T16:43:59.506460   \n",
      "4  GRB231129A  1199764.0   7.229272e+08  2023-11-29T05:05:59.096760   \n",
      "\n",
      "   RA_ground  DEC_ground  Image_position_err  Image_SNR      T90    T90_err  \\\n",
      "0    9.72982    57.63370            1.296588   20.98807   22.096   3.472525   \n",
      "1  305.66880   -72.43144            0.917670   34.38932   27.636   4.568637   \n",
      "2   95.80293   -48.33463            1.761250   13.55020    7.472   0.647951   \n",
      "3   54.15053    27.14630            0.978140   31.39288   64.000  16.000000   \n",
      "4  317.54100    41.53033            0.960403   32.22439  106.324   2.018324   \n",
      "\n",
      "   ...  Evt_start_sincetrig  Evt_stop_sincetrig   pcode  Trigger_method  \\\n",
      "0  ...               -240.0               962.0  0.0654    rate trigger   \n",
      "1  ...                -61.0               984.0  0.3906    rate trigger   \n",
      "2  ...                -60.0               963.0  0.1758    rate trigger   \n",
      "3  ...               -239.0               963.0  0.5078   image trigger   \n",
      "4  ...               -240.0               963.0  0.4648    rate trigger   \n",
      "\n",
      "   XRT_detection comment GRB_class Normalized_T50   Log_T50  T50_to_T90  \n",
      "0            Yes     NaN         1       0.318610  1.951608    0.318610  \n",
      "1            Yes     NaN         1       0.500072  2.626117    0.500072  \n",
      "2            Yes     NaN         1       0.541756  1.398223    0.541756  \n",
      "3            Yes     NaN         1       0.250000  2.772589    0.250000  \n",
      "4            Yes     NaN         1       0.625635  4.197503    0.625635  \n",
      "\n",
      "[5 rows x 22 columns]\n"
     ]
    }
   ],
   "source": [
    "import numpy as np\n",
    "#Basic statistical features\n",
    "mean_t50 = np.mean(data['T50'])\n",
    "median_t50 = np.median(data['T50'])\n",
    "std_t50 = np.std(data['T50'])\n",
    "skew_t50 = data['T50'].skew()\n",
    "kurt_t50 = data['T50'].kurtosis()\n",
    "\n",
    "# Normalized T50\n",
    "data['Normalized_T50'] = data['T50'] / data['T90']\n",
    "\n",
    "# Logarithm of T50\n",
    "data['Log_T50'] = np.log(data['T50'])\n",
    "\n",
    "# T50 to T90 ratio\n",
    "data['T50_to_T90'] = data['T50'] / data['T90']\n",
    "\n",
    "# Display results\n",
    "print(\"Mean T50:\", mean_t50)\n",
    "print(\"Median T50:\", median_t50)\n",
    "print(\"Standard Deviation of T50:\", std_t50)\n",
    "print(\"Skewness of T50:\", skew_t50)\n",
    "print(\"Kurtosis of T50:\", kurt_t50)\n",
    "print(data.head())"
   ]
  }
 ],
 "metadata": {
  "kernelspec": {
   "display_name": "Python 3 (ipykernel)",
   "language": "python",
   "name": "python3"
  },
  "language_info": {
   "codemirror_mode": {
    "name": "ipython",
    "version": 3
   },
   "file_extension": ".py",
   "mimetype": "text/x-python",
   "name": "python",
   "nbconvert_exporter": "python",
   "pygments_lexer": "ipython3",
   "version": "3.12.4"
  }
 },
 "nbformat": 4,
 "nbformat_minor": 5
}
